{
 "cells": [
  {
   "cell_type": "code",
   "execution_count": 1,
   "id": "4ef44a9d",
   "metadata": {
    "execution": {
     "iopub.execute_input": "2023-06-03T13:53:56.128729Z",
     "iopub.status.busy": "2023-06-03T13:53:56.128180Z",
     "iopub.status.idle": "2023-06-03T13:53:56.141110Z",
     "shell.execute_reply": "2023-06-03T13:53:56.139257Z"
    },
    "papermill": {
     "duration": 0.040147,
     "end_time": "2023-06-03T13:53:56.144821",
     "exception": false,
     "start_time": "2023-06-03T13:53:56.104674",
     "status": "completed"
    },
    "tags": []
   },
   "outputs": [],
   "source": [
    "import numpy as np"
   ]
  },
  {
   "cell_type": "markdown",
   "id": "d4eb8d92",
   "metadata": {
    "papermill": {
     "duration": 0.020202,
     "end_time": "2023-06-03T13:53:56.185327",
     "exception": false,
     "start_time": "2023-06-03T13:53:56.165125",
     "status": "completed"
    },
    "tags": []
   },
   "source": [
    "_1. Створіть одновимірний масив (вектор) з першими 10-ма натуральними числами та виведіть його значення._"
   ]
  },
  {
   "cell_type": "code",
   "execution_count": 2,
   "id": "9ca5f5ba",
   "metadata": {
    "execution": {
     "iopub.execute_input": "2023-06-03T13:53:56.226938Z",
     "iopub.status.busy": "2023-06-03T13:53:56.226464Z",
     "iopub.status.idle": "2023-06-03T13:53:56.231458Z",
     "shell.execute_reply": "2023-06-03T13:53:56.230313Z"
    },
    "papermill": {
     "duration": 0.028314,
     "end_time": "2023-06-03T13:53:56.233609",
     "exception": false,
     "start_time": "2023-06-03T13:53:56.205295",
     "status": "completed"
    },
    "tags": []
   },
   "outputs": [],
   "source": [
    "arr = np.arange(0,10)"
   ]
  },
  {
   "cell_type": "code",
   "execution_count": 3,
   "id": "0f454006",
   "metadata": {
    "execution": {
     "iopub.execute_input": "2023-06-03T13:53:56.275013Z",
     "iopub.status.busy": "2023-06-03T13:53:56.274046Z",
     "iopub.status.idle": "2023-06-03T13:53:56.283584Z",
     "shell.execute_reply": "2023-06-03T13:53:56.282765Z"
    },
    "papermill": {
     "duration": 0.032591,
     "end_time": "2023-06-03T13:53:56.285823",
     "exception": false,
     "start_time": "2023-06-03T13:53:56.253232",
     "status": "completed"
    },
    "tags": []
   },
   "outputs": [
    {
     "data": {
      "text/plain": [
       "array([0, 1, 2, 3, 4, 5, 6, 7, 8, 9])"
      ]
     },
     "execution_count": 3,
     "metadata": {},
     "output_type": "execute_result"
    }
   ],
   "source": [
    "arr"
   ]
  },
  {
   "cell_type": "markdown",
   "id": "5daf3fe8",
   "metadata": {
    "papermill": {
     "duration": 0.01945,
     "end_time": "2023-06-03T13:53:56.325149",
     "exception": false,
     "start_time": "2023-06-03T13:53:56.305699",
     "status": "completed"
    },
    "tags": []
   },
   "source": [
    "_2. Створіть двовимірний масив (матрицю) розміром 3x3, заповніть його нулями та виведіть його значення._"
   ]
  },
  {
   "cell_type": "code",
   "execution_count": 4,
   "id": "269c02f5",
   "metadata": {
    "execution": {
     "iopub.execute_input": "2023-06-03T13:53:56.367129Z",
     "iopub.status.busy": "2023-06-03T13:53:56.366397Z",
     "iopub.status.idle": "2023-06-03T13:53:56.370821Z",
     "shell.execute_reply": "2023-06-03T13:53:56.369995Z"
    },
    "papermill": {
     "duration": 0.027994,
     "end_time": "2023-06-03T13:53:56.373011",
     "exception": false,
     "start_time": "2023-06-03T13:53:56.345017",
     "status": "completed"
    },
    "tags": []
   },
   "outputs": [],
   "source": [
    "matrix = np.zeros((3,3))"
   ]
  },
  {
   "cell_type": "code",
   "execution_count": 5,
   "id": "28ea11d8",
   "metadata": {
    "execution": {
     "iopub.execute_input": "2023-06-03T13:53:56.414567Z",
     "iopub.status.busy": "2023-06-03T13:53:56.414108Z",
     "iopub.status.idle": "2023-06-03T13:53:56.421004Z",
     "shell.execute_reply": "2023-06-03T13:53:56.419843Z"
    },
    "papermill": {
     "duration": 0.030637,
     "end_time": "2023-06-03T13:53:56.423471",
     "exception": false,
     "start_time": "2023-06-03T13:53:56.392834",
     "status": "completed"
    },
    "tags": []
   },
   "outputs": [
    {
     "data": {
      "text/plain": [
       "array([[0., 0., 0.],\n",
       "       [0., 0., 0.],\n",
       "       [0., 0., 0.]])"
      ]
     },
     "execution_count": 5,
     "metadata": {},
     "output_type": "execute_result"
    }
   ],
   "source": [
    "matrix"
   ]
  },
  {
   "cell_type": "markdown",
   "id": "1919c06c",
   "metadata": {
    "papermill": {
     "duration": 0.019579,
     "end_time": "2023-06-03T13:53:56.463716",
     "exception": false,
     "start_time": "2023-06-03T13:53:56.444137",
     "status": "completed"
    },
    "tags": []
   },
   "source": [
    "_3. Створіть масив розміром 5x5, заповніть його випадковими цілими числами в діапазоні від 1 до 10 та виведіть його значення._"
   ]
  },
  {
   "cell_type": "code",
   "execution_count": 6,
   "id": "ccd66b97",
   "metadata": {
    "execution": {
     "iopub.execute_input": "2023-06-03T13:53:56.505805Z",
     "iopub.status.busy": "2023-06-03T13:53:56.505347Z",
     "iopub.status.idle": "2023-06-03T13:53:56.512826Z",
     "shell.execute_reply": "2023-06-03T13:53:56.511614Z"
    },
    "papermill": {
     "duration": 0.031297,
     "end_time": "2023-06-03T13:53:56.515287",
     "exception": false,
     "start_time": "2023-06-03T13:53:56.483990",
     "status": "completed"
    },
    "tags": []
   },
   "outputs": [],
   "source": [
    "matrix = np.random.randint(1, 11, size=(5, 5))"
   ]
  },
  {
   "cell_type": "code",
   "execution_count": 7,
   "id": "4e99a0de",
   "metadata": {
    "execution": {
     "iopub.execute_input": "2023-06-03T13:53:56.556790Z",
     "iopub.status.busy": "2023-06-03T13:53:56.556359Z",
     "iopub.status.idle": "2023-06-03T13:53:56.563366Z",
     "shell.execute_reply": "2023-06-03T13:53:56.562243Z"
    },
    "papermill": {
     "duration": 0.030975,
     "end_time": "2023-06-03T13:53:56.566174",
     "exception": false,
     "start_time": "2023-06-03T13:53:56.535199",
     "status": "completed"
    },
    "tags": []
   },
   "outputs": [
    {
     "data": {
      "text/plain": [
       "array([[ 4,  2,  8, 10,  3],\n",
       "       [ 2,  9,  8, 10,  8],\n",
       "       [ 3,  3,  9,  2,  8],\n",
       "       [ 7,  5,  2,  2,  2],\n",
       "       [ 5,  8,  6, 10,  4]])"
      ]
     },
     "execution_count": 7,
     "metadata": {},
     "output_type": "execute_result"
    }
   ],
   "source": [
    "matrix"
   ]
  },
  {
   "cell_type": "markdown",
   "id": "868b4e88",
   "metadata": {
    "papermill": {
     "duration": 0.019697,
     "end_time": "2023-06-03T13:53:56.605904",
     "exception": false,
     "start_time": "2023-06-03T13:53:56.586207",
     "status": "completed"
    },
    "tags": []
   },
   "source": [
    "_4. Створіть масив розміром 4x4, заповніть його випадковими дійсними числами в діапазоні від 0 до 1 та виведіть його значення._"
   ]
  },
  {
   "cell_type": "code",
   "execution_count": 8,
   "id": "baa35bce",
   "metadata": {
    "execution": {
     "iopub.execute_input": "2023-06-03T13:53:56.647538Z",
     "iopub.status.busy": "2023-06-03T13:53:56.647105Z",
     "iopub.status.idle": "2023-06-03T13:53:56.652087Z",
     "shell.execute_reply": "2023-06-03T13:53:56.651113Z"
    },
    "papermill": {
     "duration": 0.028767,
     "end_time": "2023-06-03T13:53:56.654524",
     "exception": false,
     "start_time": "2023-06-03T13:53:56.625757",
     "status": "completed"
    },
    "tags": []
   },
   "outputs": [],
   "source": [
    "matrix = np.random.randint(2, size=(4, 4))"
   ]
  },
  {
   "cell_type": "code",
   "execution_count": 9,
   "id": "ff9b4cc8",
   "metadata": {
    "execution": {
     "iopub.execute_input": "2023-06-03T13:53:56.696875Z",
     "iopub.status.busy": "2023-06-03T13:53:56.696387Z",
     "iopub.status.idle": "2023-06-03T13:53:56.703619Z",
     "shell.execute_reply": "2023-06-03T13:53:56.702375Z"
    },
    "papermill": {
     "duration": 0.031466,
     "end_time": "2023-06-03T13:53:56.706121",
     "exception": false,
     "start_time": "2023-06-03T13:53:56.674655",
     "status": "completed"
    },
    "tags": []
   },
   "outputs": [
    {
     "data": {
      "text/plain": [
       "array([[1, 1, 0, 0],\n",
       "       [1, 0, 0, 0],\n",
       "       [1, 0, 1, 0],\n",
       "       [0, 0, 0, 1]])"
      ]
     },
     "execution_count": 9,
     "metadata": {},
     "output_type": "execute_result"
    }
   ],
   "source": [
    "matrix"
   ]
  },
  {
   "cell_type": "markdown",
   "id": "35596101",
   "metadata": {
    "papermill": {
     "duration": 0.020318,
     "end_time": "2023-06-03T13:53:56.747199",
     "exception": false,
     "start_time": "2023-06-03T13:53:56.726881",
     "status": "completed"
    },
    "tags": []
   },
   "source": [
    "_5. Створіть два одновимірних масиви розміром 5, заповніть їх випадковими цілими числами в діапазоні від 1 до 10 та виконайте на них поелементні операції додавання, віднімання та множення._"
   ]
  },
  {
   "cell_type": "code",
   "execution_count": 10,
   "id": "7dba9ab0",
   "metadata": {
    "execution": {
     "iopub.execute_input": "2023-06-03T13:53:56.789312Z",
     "iopub.status.busy": "2023-06-03T13:53:56.788921Z",
     "iopub.status.idle": "2023-06-03T13:53:56.793324Z",
     "shell.execute_reply": "2023-06-03T13:53:56.792502Z"
    },
    "papermill": {
     "duration": 0.028222,
     "end_time": "2023-06-03T13:53:56.795474",
     "exception": false,
     "start_time": "2023-06-03T13:53:56.767252",
     "status": "completed"
    },
    "tags": []
   },
   "outputs": [],
   "source": [
    "arr_1 = np.random.randint(1, 11, 5)\n",
    "arr_2 = np.random.randint(1, 11, 5)"
   ]
  },
  {
   "cell_type": "code",
   "execution_count": 11,
   "id": "c1c58305",
   "metadata": {
    "execution": {
     "iopub.execute_input": "2023-06-03T13:53:56.837772Z",
     "iopub.status.busy": "2023-06-03T13:53:56.837383Z",
     "iopub.status.idle": "2023-06-03T13:53:56.843377Z",
     "shell.execute_reply": "2023-06-03T13:53:56.842451Z"
    },
    "papermill": {
     "duration": 0.030496,
     "end_time": "2023-06-03T13:53:56.846219",
     "exception": false,
     "start_time": "2023-06-03T13:53:56.815723",
     "status": "completed"
    },
    "tags": []
   },
   "outputs": [
    {
     "data": {
      "text/plain": [
       "array([2, 3, 2, 2, 3])"
      ]
     },
     "execution_count": 11,
     "metadata": {},
     "output_type": "execute_result"
    }
   ],
   "source": [
    "arr_1"
   ]
  },
  {
   "cell_type": "code",
   "execution_count": 12,
   "id": "42100987",
   "metadata": {
    "execution": {
     "iopub.execute_input": "2023-06-03T13:53:56.889241Z",
     "iopub.status.busy": "2023-06-03T13:53:56.888858Z",
     "iopub.status.idle": "2023-06-03T13:53:56.896184Z",
     "shell.execute_reply": "2023-06-03T13:53:56.894909Z"
    },
    "papermill": {
     "duration": 0.031512,
     "end_time": "2023-06-03T13:53:56.898363",
     "exception": false,
     "start_time": "2023-06-03T13:53:56.866851",
     "status": "completed"
    },
    "tags": []
   },
   "outputs": [
    {
     "data": {
      "text/plain": [
       "array([ 4,  2,  7, 10,  5])"
      ]
     },
     "execution_count": 12,
     "metadata": {},
     "output_type": "execute_result"
    }
   ],
   "source": [
    "arr_2"
   ]
  },
  {
   "cell_type": "code",
   "execution_count": 13,
   "id": "d68641d7",
   "metadata": {
    "execution": {
     "iopub.execute_input": "2023-06-03T13:53:56.942189Z",
     "iopub.status.busy": "2023-06-03T13:53:56.941764Z",
     "iopub.status.idle": "2023-06-03T13:53:56.948390Z",
     "shell.execute_reply": "2023-06-03T13:53:56.947277Z"
    },
    "papermill": {
     "duration": 0.031303,
     "end_time": "2023-06-03T13:53:56.950756",
     "exception": false,
     "start_time": "2023-06-03T13:53:56.919453",
     "status": "completed"
    },
    "tags": []
   },
   "outputs": [
    {
     "data": {
      "text/plain": [
       "array([ 6,  5,  9, 12,  8])"
      ]
     },
     "execution_count": 13,
     "metadata": {},
     "output_type": "execute_result"
    }
   ],
   "source": [
    "arr_1 + arr_2"
   ]
  },
  {
   "cell_type": "code",
   "execution_count": 14,
   "id": "eb9d36db",
   "metadata": {
    "execution": {
     "iopub.execute_input": "2023-06-03T13:53:56.994783Z",
     "iopub.status.busy": "2023-06-03T13:53:56.994359Z",
     "iopub.status.idle": "2023-06-03T13:53:57.001102Z",
     "shell.execute_reply": "2023-06-03T13:53:56.999901Z"
    },
    "papermill": {
     "duration": 0.032204,
     "end_time": "2023-06-03T13:53:57.003568",
     "exception": false,
     "start_time": "2023-06-03T13:53:56.971364",
     "status": "completed"
    },
    "tags": []
   },
   "outputs": [
    {
     "data": {
      "text/plain": [
       "array([-2,  1, -5, -8, -2])"
      ]
     },
     "execution_count": 14,
     "metadata": {},
     "output_type": "execute_result"
    }
   ],
   "source": [
    "arr_1 - arr_2"
   ]
  },
  {
   "cell_type": "code",
   "execution_count": 15,
   "id": "c3e96d0d",
   "metadata": {
    "execution": {
     "iopub.execute_input": "2023-06-03T13:53:57.047981Z",
     "iopub.status.busy": "2023-06-03T13:53:57.047511Z",
     "iopub.status.idle": "2023-06-03T13:53:57.054421Z",
     "shell.execute_reply": "2023-06-03T13:53:57.053308Z"
    },
    "papermill": {
     "duration": 0.032662,
     "end_time": "2023-06-03T13:53:57.056897",
     "exception": false,
     "start_time": "2023-06-03T13:53:57.024235",
     "status": "completed"
    },
    "tags": []
   },
   "outputs": [
    {
     "data": {
      "text/plain": [
       "array([ 8,  6, 14, 20, 15])"
      ]
     },
     "execution_count": 15,
     "metadata": {},
     "output_type": "execute_result"
    }
   ],
   "source": [
    "arr_1 * arr_2"
   ]
  },
  {
   "cell_type": "markdown",
   "id": "f5abe716",
   "metadata": {
    "papermill": {
     "duration": 0.020602,
     "end_time": "2023-06-03T13:53:57.098705",
     "exception": false,
     "start_time": "2023-06-03T13:53:57.078103",
     "status": "completed"
    },
    "tags": []
   },
   "source": [
    "_6. Створіть два вектори розміром 7, заповніть довільними числами та знайдіть їх скалярний добуток._"
   ]
  },
  {
   "cell_type": "code",
   "execution_count": 16,
   "id": "b535eb0f",
   "metadata": {
    "execution": {
     "iopub.execute_input": "2023-06-03T13:53:57.142156Z",
     "iopub.status.busy": "2023-06-03T13:53:57.141787Z",
     "iopub.status.idle": "2023-06-03T13:53:57.146902Z",
     "shell.execute_reply": "2023-06-03T13:53:57.145686Z"
    },
    "papermill": {
     "duration": 0.029642,
     "end_time": "2023-06-03T13:53:57.149221",
     "exception": false,
     "start_time": "2023-06-03T13:53:57.119579",
     "status": "completed"
    },
    "tags": []
   },
   "outputs": [],
   "source": [
    "arr_1 = np.random.randint(1, 8, 7)\n",
    "arr_2 = np.random.randint(1, 8, 7)"
   ]
  },
  {
   "cell_type": "code",
   "execution_count": 17,
   "id": "6486cf87",
   "metadata": {
    "execution": {
     "iopub.execute_input": "2023-06-03T13:53:57.195722Z",
     "iopub.status.busy": "2023-06-03T13:53:57.194887Z",
     "iopub.status.idle": "2023-06-03T13:53:57.203091Z",
     "shell.execute_reply": "2023-06-03T13:53:57.201827Z"
    },
    "papermill": {
     "duration": 0.033865,
     "end_time": "2023-06-03T13:53:57.205545",
     "exception": false,
     "start_time": "2023-06-03T13:53:57.171680",
     "status": "completed"
    },
    "tags": []
   },
   "outputs": [
    {
     "data": {
      "text/plain": [
       "array([4, 2, 5, 4, 1, 6, 7])"
      ]
     },
     "execution_count": 17,
     "metadata": {},
     "output_type": "execute_result"
    }
   ],
   "source": [
    "arr_1"
   ]
  },
  {
   "cell_type": "code",
   "execution_count": 18,
   "id": "c651d334",
   "metadata": {
    "execution": {
     "iopub.execute_input": "2023-06-03T13:53:57.252386Z",
     "iopub.status.busy": "2023-06-03T13:53:57.251021Z",
     "iopub.status.idle": "2023-06-03T13:53:57.259864Z",
     "shell.execute_reply": "2023-06-03T13:53:57.258289Z"
    },
    "papermill": {
     "duration": 0.035644,
     "end_time": "2023-06-03T13:53:57.262917",
     "exception": false,
     "start_time": "2023-06-03T13:53:57.227273",
     "status": "completed"
    },
    "tags": []
   },
   "outputs": [
    {
     "data": {
      "text/plain": [
       "array([1, 3, 6, 6, 3, 3, 5])"
      ]
     },
     "execution_count": 18,
     "metadata": {},
     "output_type": "execute_result"
    }
   ],
   "source": [
    "arr_2"
   ]
  },
  {
   "cell_type": "code",
   "execution_count": 19,
   "id": "f18de479",
   "metadata": {
    "execution": {
     "iopub.execute_input": "2023-06-03T13:53:57.308485Z",
     "iopub.status.busy": "2023-06-03T13:53:57.307197Z",
     "iopub.status.idle": "2023-06-03T13:53:57.312955Z",
     "shell.execute_reply": "2023-06-03T13:53:57.311897Z"
    },
    "papermill": {
     "duration": 0.030896,
     "end_time": "2023-06-03T13:53:57.315286",
     "exception": false,
     "start_time": "2023-06-03T13:53:57.284390",
     "status": "completed"
    },
    "tags": []
   },
   "outputs": [],
   "source": [
    "s_dot = np.dot(arr_1, arr_2)"
   ]
  },
  {
   "cell_type": "code",
   "execution_count": 20,
   "id": "442d8292",
   "metadata": {
    "execution": {
     "iopub.execute_input": "2023-06-03T13:53:57.361053Z",
     "iopub.status.busy": "2023-06-03T13:53:57.360169Z",
     "iopub.status.idle": "2023-06-03T13:53:57.368438Z",
     "shell.execute_reply": "2023-06-03T13:53:57.367038Z"
    },
    "papermill": {
     "duration": 0.033603,
     "end_time": "2023-06-03T13:53:57.370921",
     "exception": false,
     "start_time": "2023-06-03T13:53:57.337318",
     "status": "completed"
    },
    "tags": []
   },
   "outputs": [
    {
     "data": {
      "text/plain": [
       "120"
      ]
     },
     "execution_count": 20,
     "metadata": {},
     "output_type": "execute_result"
    }
   ],
   "source": [
    "s_dot"
   ]
  },
  {
   "cell_type": "markdown",
   "id": "1c03e41d",
   "metadata": {
    "papermill": {
     "duration": 0.021058,
     "end_time": "2023-06-03T13:53:57.414197",
     "exception": false,
     "start_time": "2023-06-03T13:53:57.393139",
     "status": "completed"
    },
    "tags": []
   },
   "source": [
    "_7. Створіть дві матриці розміром 2x2 та 2x3, заповніть їх випадковими цілими числами в діапазоні від 1 до 10 та перемножте їх між собою._"
   ]
  },
  {
   "cell_type": "code",
   "execution_count": 21,
   "id": "3162ed5a",
   "metadata": {
    "execution": {
     "iopub.execute_input": "2023-06-03T13:53:57.459621Z",
     "iopub.status.busy": "2023-06-03T13:53:57.458855Z",
     "iopub.status.idle": "2023-06-03T13:53:57.464266Z",
     "shell.execute_reply": "2023-06-03T13:53:57.463350Z"
    },
    "papermill": {
     "duration": 0.031354,
     "end_time": "2023-06-03T13:53:57.466900",
     "exception": false,
     "start_time": "2023-06-03T13:53:57.435546",
     "status": "completed"
    },
    "tags": []
   },
   "outputs": [],
   "source": [
    "matrix_1 = np.random.randint(1, 11, size=(2, 2))\n",
    "matrix_2 = np.random.randint(1, 11, size=(2, 3))"
   ]
  },
  {
   "cell_type": "code",
   "execution_count": 22,
   "id": "caec0f29",
   "metadata": {
    "execution": {
     "iopub.execute_input": "2023-06-03T13:53:57.512931Z",
     "iopub.status.busy": "2023-06-03T13:53:57.512082Z",
     "iopub.status.idle": "2023-06-03T13:53:57.518604Z",
     "shell.execute_reply": "2023-06-03T13:53:57.517713Z"
    },
    "papermill": {
     "duration": 0.032027,
     "end_time": "2023-06-03T13:53:57.520792",
     "exception": false,
     "start_time": "2023-06-03T13:53:57.488765",
     "status": "completed"
    },
    "tags": []
   },
   "outputs": [
    {
     "data": {
      "text/plain": [
       "array([[6, 9],\n",
       "       [3, 3]])"
      ]
     },
     "execution_count": 22,
     "metadata": {},
     "output_type": "execute_result"
    }
   ],
   "source": [
    "matrix_1"
   ]
  },
  {
   "cell_type": "code",
   "execution_count": 23,
   "id": "74df5ef5",
   "metadata": {
    "execution": {
     "iopub.execute_input": "2023-06-03T13:53:57.566772Z",
     "iopub.status.busy": "2023-06-03T13:53:57.566028Z",
     "iopub.status.idle": "2023-06-03T13:53:57.572849Z",
     "shell.execute_reply": "2023-06-03T13:53:57.571471Z"
    },
    "papermill": {
     "duration": 0.032699,
     "end_time": "2023-06-03T13:53:57.575340",
     "exception": false,
     "start_time": "2023-06-03T13:53:57.542641",
     "status": "completed"
    },
    "tags": []
   },
   "outputs": [
    {
     "data": {
      "text/plain": [
       "array([[8, 3, 1],\n",
       "       [5, 8, 6]])"
      ]
     },
     "execution_count": 23,
     "metadata": {},
     "output_type": "execute_result"
    }
   ],
   "source": [
    "matrix_2"
   ]
  },
  {
   "cell_type": "code",
   "execution_count": 24,
   "id": "9ffc98a0",
   "metadata": {
    "execution": {
     "iopub.execute_input": "2023-06-03T13:53:57.621425Z",
     "iopub.status.busy": "2023-06-03T13:53:57.620654Z",
     "iopub.status.idle": "2023-06-03T13:53:57.627909Z",
     "shell.execute_reply": "2023-06-03T13:53:57.626714Z"
    },
    "papermill": {
     "duration": 0.033672,
     "end_time": "2023-06-03T13:53:57.630844",
     "exception": false,
     "start_time": "2023-06-03T13:53:57.597172",
     "status": "completed"
    },
    "tags": []
   },
   "outputs": [
    {
     "data": {
      "text/plain": [
       "array([[93, 90, 60],\n",
       "       [39, 33, 21]])"
      ]
     },
     "execution_count": 24,
     "metadata": {},
     "output_type": "execute_result"
    }
   ],
   "source": [
    "np.dot(matrix_1, matrix_2)"
   ]
  },
  {
   "cell_type": "markdown",
   "id": "45a56e78",
   "metadata": {
    "papermill": {
     "duration": 0.022134,
     "end_time": "2023-06-03T13:53:57.675806",
     "exception": false,
     "start_time": "2023-06-03T13:53:57.653672",
     "status": "completed"
    },
    "tags": []
   },
   "source": [
    "_8. Створіть матрицю розміром 3x3, заповніть її випадковими цілими числами в діапазоні від 1 до 10 та знайдіть її обернену матрицю._"
   ]
  },
  {
   "cell_type": "code",
   "execution_count": 25,
   "id": "874c34be",
   "metadata": {
    "execution": {
     "iopub.execute_input": "2023-06-03T13:53:57.723185Z",
     "iopub.status.busy": "2023-06-03T13:53:57.722481Z",
     "iopub.status.idle": "2023-06-03T13:53:57.730733Z",
     "shell.execute_reply": "2023-06-03T13:53:57.729425Z"
    },
    "papermill": {
     "duration": 0.034982,
     "end_time": "2023-06-03T13:53:57.733296",
     "exception": false,
     "start_time": "2023-06-03T13:53:57.698314",
     "status": "completed"
    },
    "tags": []
   },
   "outputs": [
    {
     "data": {
      "text/plain": [
       "array([[ 5,  3,  7],\n",
       "       [ 4,  6,  6],\n",
       "       [ 1, 10, 10]])"
      ]
     },
     "execution_count": 25,
     "metadata": {},
     "output_type": "execute_result"
    }
   ],
   "source": [
    "matrix = np.random.randint(1, 11, size=(3, 3))\n",
    "matrix"
   ]
  },
  {
   "cell_type": "code",
   "execution_count": 26,
   "id": "1c81c313",
   "metadata": {
    "execution": {
     "iopub.execute_input": "2023-06-03T13:53:57.782171Z",
     "iopub.status.busy": "2023-06-03T13:53:57.781470Z",
     "iopub.status.idle": "2023-06-03T13:53:57.797681Z",
     "shell.execute_reply": "2023-06-03T13:53:57.796450Z"
    },
    "papermill": {
     "duration": 0.043456,
     "end_time": "2023-06-03T13:53:57.800448",
     "exception": false,
     "start_time": "2023-06-03T13:53:57.756992",
     "status": "completed"
    },
    "tags": []
   },
   "outputs": [
    {
     "data": {
      "text/plain": [
       "array([[-4.44089210e-17,  2.94117647e-01, -1.76470588e-01],\n",
       "       [-2.50000000e-01,  3.16176471e-01, -1.47058824e-02],\n",
       "       [ 2.50000000e-01, -3.45588235e-01,  1.32352941e-01]])"
      ]
     },
     "execution_count": 26,
     "metadata": {},
     "output_type": "execute_result"
    }
   ],
   "source": [
    "inverse_matrix = np.linalg.inv(matrix)\n",
    "inverse_matrix"
   ]
  },
  {
   "cell_type": "code",
   "execution_count": 27,
   "id": "c12d2336",
   "metadata": {
    "execution": {
     "iopub.execute_input": "2023-06-03T13:53:57.851529Z",
     "iopub.status.busy": "2023-06-03T13:53:57.850564Z",
     "iopub.status.idle": "2023-06-03T13:53:57.859179Z",
     "shell.execute_reply": "2023-06-03T13:53:57.858067Z"
    },
    "papermill": {
     "duration": 0.036319,
     "end_time": "2023-06-03T13:53:57.861790",
     "exception": false,
     "start_time": "2023-06-03T13:53:57.825471",
     "status": "completed"
    },
    "tags": []
   },
   "outputs": [
    {
     "data": {
      "text/plain": [
       "array([[ 5.,  3.,  7.],\n",
       "       [ 4.,  6.,  6.],\n",
       "       [ 1., 10., 10.]])"
      ]
     },
     "execution_count": 27,
     "metadata": {},
     "output_type": "execute_result"
    }
   ],
   "source": [
    "inverse_matrix = np.linalg.inv(inverse_matrix)\n",
    "inverse_matrix"
   ]
  },
  {
   "cell_type": "markdown",
   "id": "8ad5dc04",
   "metadata": {
    "papermill": {
     "duration": 0.023034,
     "end_time": "2023-06-03T13:53:57.908217",
     "exception": false,
     "start_time": "2023-06-03T13:53:57.885183",
     "status": "completed"
    },
    "tags": []
   },
   "source": [
    "_9. Створіть матрицю розміром 4x4, заповніть її випадковими дійсними числами в діапазоні від 0 до 1 та транспонуйте її._"
   ]
  },
  {
   "cell_type": "code",
   "execution_count": 28,
   "id": "d0f67ca3",
   "metadata": {
    "execution": {
     "iopub.execute_input": "2023-06-03T13:53:57.958151Z",
     "iopub.status.busy": "2023-06-03T13:53:57.957670Z",
     "iopub.status.idle": "2023-06-03T13:53:57.966987Z",
     "shell.execute_reply": "2023-06-03T13:53:57.965680Z"
    },
    "papermill": {
     "duration": 0.038059,
     "end_time": "2023-06-03T13:53:57.969732",
     "exception": false,
     "start_time": "2023-06-03T13:53:57.931673",
     "status": "completed"
    },
    "tags": []
   },
   "outputs": [
    {
     "data": {
      "text/plain": [
       "array([[0.49756559, 0.02191919, 0.68708192, 0.41802737],\n",
       "       [0.82889317, 0.16284009, 0.13925328, 0.15269471],\n",
       "       [0.18524341, 0.7386229 , 0.60235385, 0.92152735],\n",
       "       [0.11032487, 0.59806179, 0.83469891, 0.47845336]])"
      ]
     },
     "execution_count": 28,
     "metadata": {},
     "output_type": "execute_result"
    }
   ],
   "source": [
    "matrix = np.random.random((4, 4))\n",
    "matrix"
   ]
  },
  {
   "cell_type": "code",
   "execution_count": 29,
   "id": "8c8f21fe",
   "metadata": {
    "execution": {
     "iopub.execute_input": "2023-06-03T13:53:58.020746Z",
     "iopub.status.busy": "2023-06-03T13:53:58.019764Z",
     "iopub.status.idle": "2023-06-03T13:53:58.029938Z",
     "shell.execute_reply": "2023-06-03T13:53:58.028486Z"
    },
    "papermill": {
     "duration": 0.039044,
     "end_time": "2023-06-03T13:53:58.032766",
     "exception": false,
     "start_time": "2023-06-03T13:53:57.993722",
     "status": "completed"
    },
    "tags": []
   },
   "outputs": [
    {
     "data": {
      "text/plain": [
       "array([[0.49756559, 0.82889317, 0.18524341, 0.11032487],\n",
       "       [0.02191919, 0.16284009, 0.7386229 , 0.59806179],\n",
       "       [0.68708192, 0.13925328, 0.60235385, 0.83469891],\n",
       "       [0.41802737, 0.15269471, 0.92152735, 0.47845336]])"
      ]
     },
     "execution_count": 29,
     "metadata": {},
     "output_type": "execute_result"
    }
   ],
   "source": [
    "transposed_matrix = np.transpose(matrix)\n",
    "transposed_matrix"
   ]
  },
  {
   "cell_type": "markdown",
   "id": "4d65ca69",
   "metadata": {
    "papermill": {
     "duration": 0.024088,
     "end_time": "2023-06-03T13:53:58.080737",
     "exception": false,
     "start_time": "2023-06-03T13:53:58.056649",
     "status": "completed"
    },
    "tags": []
   },
   "source": [
    "_10. Створіть матрицю розміром 3x4 та вектор розміром 4, заповніть їх випадковими цілими числами в діапазоні від 1 до 10 та перемножте матрицю на вектор._"
   ]
  },
  {
   "cell_type": "code",
   "execution_count": 30,
   "id": "93e746ae",
   "metadata": {
    "execution": {
     "iopub.execute_input": "2023-06-03T13:53:58.131580Z",
     "iopub.status.busy": "2023-06-03T13:53:58.130693Z",
     "iopub.status.idle": "2023-06-03T13:53:58.139067Z",
     "shell.execute_reply": "2023-06-03T13:53:58.137969Z"
    },
    "papermill": {
     "duration": 0.036591,
     "end_time": "2023-06-03T13:53:58.141556",
     "exception": false,
     "start_time": "2023-06-03T13:53:58.104965",
     "status": "completed"
    },
    "tags": []
   },
   "outputs": [
    {
     "data": {
      "text/plain": [
       "array([[ 9, 10,  1,  3],\n",
       "       [ 3,  4,  2,  4],\n",
       "       [ 4,  5,  8,  6]])"
      ]
     },
     "execution_count": 30,
     "metadata": {},
     "output_type": "execute_result"
    }
   ],
   "source": [
    "matrix = np.random.randint(1, 11, size=(3, 4))\n",
    "matrix"
   ]
  },
  {
   "cell_type": "code",
   "execution_count": 31,
   "id": "acc3d12b",
   "metadata": {
    "execution": {
     "iopub.execute_input": "2023-06-03T13:53:58.190723Z",
     "iopub.status.busy": "2023-06-03T13:53:58.190225Z",
     "iopub.status.idle": "2023-06-03T13:53:58.197389Z",
     "shell.execute_reply": "2023-06-03T13:53:58.196576Z"
    },
    "papermill": {
     "duration": 0.035119,
     "end_time": "2023-06-03T13:53:58.199998",
     "exception": false,
     "start_time": "2023-06-03T13:53:58.164879",
     "status": "completed"
    },
    "tags": []
   },
   "outputs": [
    {
     "data": {
      "text/plain": [
       "array([2, 5, 8, 7])"
      ]
     },
     "execution_count": 31,
     "metadata": {},
     "output_type": "execute_result"
    }
   ],
   "source": [
    "vector= np.random.randint(1, 11, size=4)\n",
    "vector"
   ]
  },
  {
   "cell_type": "code",
   "execution_count": 32,
   "id": "94728717",
   "metadata": {
    "execution": {
     "iopub.execute_input": "2023-06-03T13:53:58.250955Z",
     "iopub.status.busy": "2023-06-03T13:53:58.250479Z",
     "iopub.status.idle": "2023-06-03T13:53:58.257861Z",
     "shell.execute_reply": "2023-06-03T13:53:58.256702Z"
    },
    "papermill": {
     "duration": 0.036212,
     "end_time": "2023-06-03T13:53:58.260730",
     "exception": false,
     "start_time": "2023-06-03T13:53:58.224518",
     "status": "completed"
    },
    "tags": []
   },
   "outputs": [
    {
     "data": {
      "text/plain": [
       "array([ 97,  70, 139])"
      ]
     },
     "execution_count": 32,
     "metadata": {},
     "output_type": "execute_result"
    }
   ],
   "source": [
    "np.dot(matrix, vector)"
   ]
  },
  {
   "cell_type": "markdown",
   "id": "6f1aade2",
   "metadata": {
    "papermill": {
     "duration": 0.023248,
     "end_time": "2023-06-03T13:53:58.308027",
     "exception": false,
     "start_time": "2023-06-03T13:53:58.284779",
     "status": "completed"
    },
    "tags": []
   },
   "source": [
    "_11. Створіть матрицю розміром 2x3 та вектор розміром 3, заповніть їх випадковими дійсними числами в діапазоні від 0 до 1 та перемножте матрицю на вектор._"
   ]
  },
  {
   "cell_type": "code",
   "execution_count": 33,
   "id": "999e49d0",
   "metadata": {
    "execution": {
     "iopub.execute_input": "2023-06-03T13:53:58.360335Z",
     "iopub.status.busy": "2023-06-03T13:53:58.359881Z",
     "iopub.status.idle": "2023-06-03T13:53:58.367440Z",
     "shell.execute_reply": "2023-06-03T13:53:58.366551Z"
    },
    "papermill": {
     "duration": 0.036088,
     "end_time": "2023-06-03T13:53:58.369712",
     "exception": false,
     "start_time": "2023-06-03T13:53:58.333624",
     "status": "completed"
    },
    "tags": []
   },
   "outputs": [
    {
     "data": {
      "text/plain": [
       "array([[0.05980855, 0.70520576, 0.62527013],\n",
       "       [0.36230609, 0.09025834, 0.63954987]])"
      ]
     },
     "execution_count": 33,
     "metadata": {},
     "output_type": "execute_result"
    }
   ],
   "source": [
    "matrix = np.random.random((2, 3))\n",
    "matrix"
   ]
  },
  {
   "cell_type": "code",
   "execution_count": 34,
   "id": "4e968c2f",
   "metadata": {
    "execution": {
     "iopub.execute_input": "2023-06-03T13:53:58.421805Z",
     "iopub.status.busy": "2023-06-03T13:53:58.420794Z",
     "iopub.status.idle": "2023-06-03T13:53:58.428589Z",
     "shell.execute_reply": "2023-06-03T13:53:58.427656Z"
    },
    "papermill": {
     "duration": 0.037445,
     "end_time": "2023-06-03T13:53:58.431184",
     "exception": false,
     "start_time": "2023-06-03T13:53:58.393739",
     "status": "completed"
    },
    "tags": []
   },
   "outputs": [
    {
     "data": {
      "text/plain": [
       "array([0.38923867, 0.43977601, 0.64208523])"
      ]
     },
     "execution_count": 34,
     "metadata": {},
     "output_type": "execute_result"
    }
   ],
   "source": [
    "vector= np.random.random(3)\n",
    "vector"
   ]
  },
  {
   "cell_type": "code",
   "execution_count": 35,
   "id": "7464efa9",
   "metadata": {
    "execution": {
     "iopub.execute_input": "2023-06-03T13:53:58.482837Z",
     "iopub.status.busy": "2023-06-03T13:53:58.481533Z",
     "iopub.status.idle": "2023-06-03T13:53:58.489687Z",
     "shell.execute_reply": "2023-06-03T13:53:58.488473Z"
    },
    "papermill": {
     "duration": 0.036673,
     "end_time": "2023-06-03T13:53:58.492245",
     "exception": false,
     "start_time": "2023-06-03T13:53:58.455572",
     "status": "completed"
    },
    "tags": []
   },
   "outputs": [
    {
     "data": {
      "text/plain": [
       "array([0.73488909, 0.59136253])"
      ]
     },
     "execution_count": 35,
     "metadata": {},
     "output_type": "execute_result"
    }
   ],
   "source": [
    "np.dot(matrix, vector)"
   ]
  },
  {
   "cell_type": "markdown",
   "id": "9add9f1b",
   "metadata": {
    "papermill": {
     "duration": 0.025159,
     "end_time": "2023-06-03T13:53:58.541791",
     "exception": false,
     "start_time": "2023-06-03T13:53:58.516632",
     "status": "completed"
    },
    "tags": []
   },
   "source": [
    "_12. Створіть дві матриці розміром 2x2, заповніть їх випадковими цілими числами в діапазоні від 1 до 10 та виконайте їхнє поелементне множення._"
   ]
  },
  {
   "cell_type": "code",
   "execution_count": 36,
   "id": "7abfc3ea",
   "metadata": {
    "execution": {
     "iopub.execute_input": "2023-06-03T13:53:58.593121Z",
     "iopub.status.busy": "2023-06-03T13:53:58.592687Z",
     "iopub.status.idle": "2023-06-03T13:53:58.600251Z",
     "shell.execute_reply": "2023-06-03T13:53:58.599340Z"
    },
    "papermill": {
     "duration": 0.035509,
     "end_time": "2023-06-03T13:53:58.602333",
     "exception": false,
     "start_time": "2023-06-03T13:53:58.566824",
     "status": "completed"
    },
    "tags": []
   },
   "outputs": [
    {
     "data": {
      "text/plain": [
       "array([[ 2,  1],\n",
       "       [ 4, 10]])"
      ]
     },
     "execution_count": 36,
     "metadata": {},
     "output_type": "execute_result"
    }
   ],
   "source": [
    "matrix_1 = np.random.randint(1, 11, size=(2, 2))\n",
    "matrix_1"
   ]
  },
  {
   "cell_type": "code",
   "execution_count": 37,
   "id": "fabe4f38",
   "metadata": {
    "execution": {
     "iopub.execute_input": "2023-06-03T13:53:58.654257Z",
     "iopub.status.busy": "2023-06-03T13:53:58.653807Z",
     "iopub.status.idle": "2023-06-03T13:53:58.661821Z",
     "shell.execute_reply": "2023-06-03T13:53:58.660486Z"
    },
    "papermill": {
     "duration": 0.03735,
     "end_time": "2023-06-03T13:53:58.664824",
     "exception": false,
     "start_time": "2023-06-03T13:53:58.627474",
     "status": "completed"
    },
    "tags": []
   },
   "outputs": [
    {
     "data": {
      "text/plain": [
       "array([[10, 10],\n",
       "       [ 3,  7]])"
      ]
     },
     "execution_count": 37,
     "metadata": {},
     "output_type": "execute_result"
    }
   ],
   "source": [
    "matrix_2 = np.random.randint(1, 11, size=(2, 2))\n",
    "matrix_2"
   ]
  },
  {
   "cell_type": "code",
   "execution_count": 38,
   "id": "243d4890",
   "metadata": {
    "execution": {
     "iopub.execute_input": "2023-06-03T13:53:58.717094Z",
     "iopub.status.busy": "2023-06-03T13:53:58.716303Z",
     "iopub.status.idle": "2023-06-03T13:53:58.724170Z",
     "shell.execute_reply": "2023-06-03T13:53:58.723002Z"
    },
    "papermill": {
     "duration": 0.037241,
     "end_time": "2023-06-03T13:53:58.726547",
     "exception": false,
     "start_time": "2023-06-03T13:53:58.689306",
     "status": "completed"
    },
    "tags": []
   },
   "outputs": [
    {
     "data": {
      "text/plain": [
       "array([[20, 10],\n",
       "       [12, 70]])"
      ]
     },
     "execution_count": 38,
     "metadata": {},
     "output_type": "execute_result"
    }
   ],
   "source": [
    "matrix_1 * matrix_2"
   ]
  },
  {
   "cell_type": "code",
   "execution_count": 39,
   "id": "783ee378",
   "metadata": {
    "execution": {
     "iopub.execute_input": "2023-06-03T13:53:58.779133Z",
     "iopub.status.busy": "2023-06-03T13:53:58.778138Z",
     "iopub.status.idle": "2023-06-03T13:53:58.786062Z",
     "shell.execute_reply": "2023-06-03T13:53:58.784917Z"
    },
    "papermill": {
     "duration": 0.036769,
     "end_time": "2023-06-03T13:53:58.788437",
     "exception": false,
     "start_time": "2023-06-03T13:53:58.751668",
     "status": "completed"
    },
    "tags": []
   },
   "outputs": [
    {
     "data": {
      "text/plain": [
       "array([[20, 10],\n",
       "       [12, 70]])"
      ]
     },
     "execution_count": 39,
     "metadata": {},
     "output_type": "execute_result"
    }
   ],
   "source": [
    "np.multiply(matrix_1, matrix_2)"
   ]
  },
  {
   "cell_type": "markdown",
   "id": "0946fe49",
   "metadata": {
    "papermill": {
     "duration": 0.025301,
     "end_time": "2023-06-03T13:53:58.838585",
     "exception": false,
     "start_time": "2023-06-03T13:53:58.813284",
     "status": "completed"
    },
    "tags": []
   },
   "source": [
    "_13. Створіть дві матриці розміром 2x2, заповніть їх випадковими цілими числами в діапазоні від 1 до 10 та знайдіть їх добуток._"
   ]
  },
  {
   "cell_type": "code",
   "execution_count": 40,
   "id": "f42fcae5",
   "metadata": {
    "execution": {
     "iopub.execute_input": "2023-06-03T13:53:58.891691Z",
     "iopub.status.busy": "2023-06-03T13:53:58.890192Z",
     "iopub.status.idle": "2023-06-03T13:53:58.899419Z",
     "shell.execute_reply": "2023-06-03T13:53:58.898243Z"
    },
    "papermill": {
     "duration": 0.038515,
     "end_time": "2023-06-03T13:53:58.901940",
     "exception": false,
     "start_time": "2023-06-03T13:53:58.863425",
     "status": "completed"
    },
    "tags": []
   },
   "outputs": [
    {
     "data": {
      "text/plain": [
       "array([[ 6,  6],\n",
       "       [10,  8]])"
      ]
     },
     "execution_count": 40,
     "metadata": {},
     "output_type": "execute_result"
    }
   ],
   "source": [
    "matrix_1 = np.random.randint(1, 11, size=(2, 2))\n",
    "matrix_1"
   ]
  },
  {
   "cell_type": "code",
   "execution_count": 41,
   "id": "6d59fa1a",
   "metadata": {
    "execution": {
     "iopub.execute_input": "2023-06-03T13:53:58.954892Z",
     "iopub.status.busy": "2023-06-03T13:53:58.954397Z",
     "iopub.status.idle": "2023-06-03T13:53:58.963302Z",
     "shell.execute_reply": "2023-06-03T13:53:58.962095Z"
    },
    "papermill": {
     "duration": 0.038676,
     "end_time": "2023-06-03T13:53:58.965943",
     "exception": false,
     "start_time": "2023-06-03T13:53:58.927267",
     "status": "completed"
    },
    "tags": []
   },
   "outputs": [
    {
     "data": {
      "text/plain": [
       "array([[9, 4],\n",
       "       [5, 6]])"
      ]
     },
     "execution_count": 41,
     "metadata": {},
     "output_type": "execute_result"
    }
   ],
   "source": [
    "matrix_2 = np.random.randint(1, 11, size=(2, 2))\n",
    "matrix_2"
   ]
  },
  {
   "cell_type": "code",
   "execution_count": 42,
   "id": "b70c3cf0",
   "metadata": {
    "execution": {
     "iopub.execute_input": "2023-06-03T13:53:59.018317Z",
     "iopub.status.busy": "2023-06-03T13:53:59.017830Z",
     "iopub.status.idle": "2023-06-03T13:53:59.026118Z",
     "shell.execute_reply": "2023-06-03T13:53:59.025005Z"
    },
    "papermill": {
     "duration": 0.03711,
     "end_time": "2023-06-03T13:53:59.028313",
     "exception": false,
     "start_time": "2023-06-03T13:53:58.991203",
     "status": "completed"
    },
    "tags": []
   },
   "outputs": [
    {
     "data": {
      "text/plain": [
       "array([[ 84,  60],\n",
       "       [130,  88]])"
      ]
     },
     "execution_count": 42,
     "metadata": {},
     "output_type": "execute_result"
    }
   ],
   "source": [
    "np.dot(matrix_1, matrix_2)"
   ]
  },
  {
   "cell_type": "markdown",
   "id": "cfdacc77",
   "metadata": {
    "papermill": {
     "duration": 0.026563,
     "end_time": "2023-06-03T13:53:59.080640",
     "exception": false,
     "start_time": "2023-06-03T13:53:59.054077",
     "status": "completed"
    },
    "tags": []
   },
   "source": [
    "_14. Створіть матрицю розміром 5x5, заповніть її випадковими цілими числами в діапазоні від 1 до 100 та знайдіть суму елементів матриці._"
   ]
  },
  {
   "cell_type": "code",
   "execution_count": 43,
   "id": "d407e4ab",
   "metadata": {
    "execution": {
     "iopub.execute_input": "2023-06-03T13:53:59.137261Z",
     "iopub.status.busy": "2023-06-03T13:53:59.136798Z",
     "iopub.status.idle": "2023-06-03T13:53:59.145015Z",
     "shell.execute_reply": "2023-06-03T13:53:59.143672Z"
    },
    "papermill": {
     "duration": 0.039207,
     "end_time": "2023-06-03T13:53:59.147787",
     "exception": false,
     "start_time": "2023-06-03T13:53:59.108580",
     "status": "completed"
    },
    "tags": []
   },
   "outputs": [
    {
     "data": {
      "text/plain": [
       "array([[92, 58, 41, 45, 71],\n",
       "       [ 4, 12, 85, 67, 43],\n",
       "       [ 6, 54, 19, 97, 56],\n",
       "       [65, 16, 14, 17, 76],\n",
       "       [90, 98, 72,  7, 11]])"
      ]
     },
     "execution_count": 43,
     "metadata": {},
     "output_type": "execute_result"
    }
   ],
   "source": [
    "matrix = np.random.randint(1, 101, size=(5, 5))\n",
    "matrix"
   ]
  },
  {
   "cell_type": "code",
   "execution_count": 44,
   "id": "9a973baf",
   "metadata": {
    "execution": {
     "iopub.execute_input": "2023-06-03T13:53:59.202053Z",
     "iopub.status.busy": "2023-06-03T13:53:59.201562Z",
     "iopub.status.idle": "2023-06-03T13:53:59.209298Z",
     "shell.execute_reply": "2023-06-03T13:53:59.208014Z"
    },
    "papermill": {
     "duration": 0.037043,
     "end_time": "2023-06-03T13:53:59.211676",
     "exception": false,
     "start_time": "2023-06-03T13:53:59.174633",
     "status": "completed"
    },
    "tags": []
   },
   "outputs": [
    {
     "data": {
      "text/plain": [
       "1216"
      ]
     },
     "execution_count": 44,
     "metadata": {},
     "output_type": "execute_result"
    }
   ],
   "source": [
    "np.sum(matrix)"
   ]
  },
  {
   "cell_type": "markdown",
   "id": "7faa6f4a",
   "metadata": {
    "papermill": {
     "duration": 0.025088,
     "end_time": "2023-06-03T13:53:59.262821",
     "exception": false,
     "start_time": "2023-06-03T13:53:59.237733",
     "status": "completed"
    },
    "tags": []
   },
   "source": [
    "_15. Створіть дві матриці розміром 4x4, заповніть їх випадковими цілими числами в діапазоні від 1 до 10 та знайдіть їхню різницю._"
   ]
  },
  {
   "cell_type": "code",
   "execution_count": 45,
   "id": "5cc0b395",
   "metadata": {
    "execution": {
     "iopub.execute_input": "2023-06-03T13:53:59.315780Z",
     "iopub.status.busy": "2023-06-03T13:53:59.315248Z",
     "iopub.status.idle": "2023-06-03T13:53:59.324264Z",
     "shell.execute_reply": "2023-06-03T13:53:59.323001Z"
    },
    "papermill": {
     "duration": 0.038371,
     "end_time": "2023-06-03T13:53:59.326698",
     "exception": false,
     "start_time": "2023-06-03T13:53:59.288327",
     "status": "completed"
    },
    "tags": []
   },
   "outputs": [
    {
     "data": {
      "text/plain": [
       "array([[ 9,  7,  6,  4],\n",
       "       [10,  2, 10,  4],\n",
       "       [ 4,  5,  8,  6],\n",
       "       [ 2, 10,  5,  4]])"
      ]
     },
     "execution_count": 45,
     "metadata": {},
     "output_type": "execute_result"
    }
   ],
   "source": [
    "matrix_1 = np.random.randint(1, 11, size=(4, 4))\n",
    "matrix_1"
   ]
  },
  {
   "cell_type": "code",
   "execution_count": 46,
   "id": "3d003dda",
   "metadata": {
    "execution": {
     "iopub.execute_input": "2023-06-03T13:53:59.380230Z",
     "iopub.status.busy": "2023-06-03T13:53:59.379752Z",
     "iopub.status.idle": "2023-06-03T13:53:59.388706Z",
     "shell.execute_reply": "2023-06-03T13:53:59.387485Z"
    },
    "papermill": {
     "duration": 0.039016,
     "end_time": "2023-06-03T13:53:59.391309",
     "exception": false,
     "start_time": "2023-06-03T13:53:59.352293",
     "status": "completed"
    },
    "tags": []
   },
   "outputs": [
    {
     "data": {
      "text/plain": [
       "array([[10,  9,  8,  8],\n",
       "       [ 3,  1,  6,  2],\n",
       "       [ 3,  8,  1,  6],\n",
       "       [10,  8,  6,  3]])"
      ]
     },
     "execution_count": 46,
     "metadata": {},
     "output_type": "execute_result"
    }
   ],
   "source": [
    "matrix_2 = np.random.randint(1, 11, size=(4, 4))\n",
    "matrix_2"
   ]
  },
  {
   "cell_type": "code",
   "execution_count": 47,
   "id": "a986d531",
   "metadata": {
    "execution": {
     "iopub.execute_input": "2023-06-03T13:53:59.445629Z",
     "iopub.status.busy": "2023-06-03T13:53:59.445016Z",
     "iopub.status.idle": "2023-06-03T13:53:59.453687Z",
     "shell.execute_reply": "2023-06-03T13:53:59.452373Z"
    },
    "papermill": {
     "duration": 0.038927,
     "end_time": "2023-06-03T13:53:59.456285",
     "exception": false,
     "start_time": "2023-06-03T13:53:59.417358",
     "status": "completed"
    },
    "tags": []
   },
   "outputs": [
    {
     "data": {
      "text/plain": [
       "array([[-1, -2, -2, -4],\n",
       "       [ 7,  1,  4,  2],\n",
       "       [ 1, -3,  7,  0],\n",
       "       [-8,  2, -1,  1]])"
      ]
     },
     "execution_count": 47,
     "metadata": {},
     "output_type": "execute_result"
    }
   ],
   "source": [
    "matrix_1 - matrix_2"
   ]
  },
  {
   "cell_type": "markdown",
   "id": "223b6d8c",
   "metadata": {
    "papermill": {
     "duration": 0.025595,
     "end_time": "2023-06-03T13:53:59.508050",
     "exception": false,
     "start_time": "2023-06-03T13:53:59.482455",
     "status": "completed"
    },
    "tags": []
   },
   "source": [
    "_16. Створіть матрицю розміром 3x3, заповніть її випадковими дійсними числами в діапазоні від 0 до 1 та знайдіть вектор-стовпчик, що містить суму елементів кожного рядка матриці._"
   ]
  },
  {
   "cell_type": "code",
   "execution_count": 48,
   "id": "38e67a7c",
   "metadata": {
    "execution": {
     "iopub.execute_input": "2023-06-03T13:53:59.562247Z",
     "iopub.status.busy": "2023-06-03T13:53:59.561757Z",
     "iopub.status.idle": "2023-06-03T13:53:59.569444Z",
     "shell.execute_reply": "2023-06-03T13:53:59.568532Z"
    },
    "papermill": {
     "duration": 0.037403,
     "end_time": "2023-06-03T13:53:59.571492",
     "exception": false,
     "start_time": "2023-06-03T13:53:59.534089",
     "status": "completed"
    },
    "tags": []
   },
   "outputs": [
    {
     "data": {
      "text/plain": [
       "array([[0.71634741, 0.89356371, 0.40772264],\n",
       "       [0.40485331, 0.9796772 , 0.23122693],\n",
       "       [0.40124446, 0.47695179, 0.51587092]])"
      ]
     },
     "execution_count": 48,
     "metadata": {},
     "output_type": "execute_result"
    }
   ],
   "source": [
    "matrix = np.random.random((3, 3))\n",
    "matrix"
   ]
  },
  {
   "cell_type": "code",
   "execution_count": 49,
   "id": "e95139b4",
   "metadata": {
    "execution": {
     "iopub.execute_input": "2023-06-03T13:53:59.626674Z",
     "iopub.status.busy": "2023-06-03T13:53:59.625602Z",
     "iopub.status.idle": "2023-06-03T13:53:59.634560Z",
     "shell.execute_reply": "2023-06-03T13:53:59.633394Z"
    },
    "papermill": {
     "duration": 0.039404,
     "end_time": "2023-06-03T13:53:59.637063",
     "exception": false,
     "start_time": "2023-06-03T13:53:59.597659",
     "status": "completed"
    },
    "tags": []
   },
   "outputs": [
    {
     "data": {
      "text/plain": [
       "array([2.01763377, 1.61575745, 1.39406717])"
      ]
     },
     "execution_count": 49,
     "metadata": {},
     "output_type": "execute_result"
    }
   ],
   "source": [
    "sums = np.sum(matrix, axis=1)\n",
    "sums"
   ]
  },
  {
   "cell_type": "code",
   "execution_count": 50,
   "id": "22682a7b",
   "metadata": {
    "execution": {
     "iopub.execute_input": "2023-06-03T13:53:59.692551Z",
     "iopub.status.busy": "2023-06-03T13:53:59.692011Z",
     "iopub.status.idle": "2023-06-03T13:53:59.699620Z",
     "shell.execute_reply": "2023-06-03T13:53:59.698678Z"
    },
    "papermill": {
     "duration": 0.037623,
     "end_time": "2023-06-03T13:53:59.701862",
     "exception": false,
     "start_time": "2023-06-03T13:53:59.664239",
     "status": "completed"
    },
    "tags": []
   },
   "outputs": [
    {
     "data": {
      "text/plain": [
       "array([[2.01763377],\n",
       "       [1.61575745],\n",
       "       [1.39406717]])"
      ]
     },
     "execution_count": 50,
     "metadata": {},
     "output_type": "execute_result"
    }
   ],
   "source": [
    "vector_column = sums.reshape(-1, 1)\n",
    "vector_column"
   ]
  },
  {
   "cell_type": "markdown",
   "id": "0e5d53fd",
   "metadata": {
    "papermill": {
     "duration": 0.026425,
     "end_time": "2023-06-03T13:53:59.754711",
     "exception": false,
     "start_time": "2023-06-03T13:53:59.728286",
     "status": "completed"
    },
    "tags": []
   },
   "source": [
    "_17. Створіть матрицю розміром 3x4 з довільними цілими числами і створінь матрицю з квадратами цих чисел._"
   ]
  },
  {
   "cell_type": "code",
   "execution_count": 51,
   "id": "ecd03e48",
   "metadata": {
    "execution": {
     "iopub.execute_input": "2023-06-03T13:53:59.809793Z",
     "iopub.status.busy": "2023-06-03T13:53:59.809247Z",
     "iopub.status.idle": "2023-06-03T13:53:59.818118Z",
     "shell.execute_reply": "2023-06-03T13:53:59.816831Z"
    },
    "papermill": {
     "duration": 0.039886,
     "end_time": "2023-06-03T13:53:59.820965",
     "exception": false,
     "start_time": "2023-06-03T13:53:59.781079",
     "status": "completed"
    },
    "tags": []
   },
   "outputs": [
    {
     "data": {
      "text/plain": [
       "array([[5, 7, 8, 5],\n",
       "       [4, 4, 5, 9],\n",
       "       [3, 6, 7, 1]])"
      ]
     },
     "execution_count": 51,
     "metadata": {},
     "output_type": "execute_result"
    }
   ],
   "source": [
    "matrix = np.random.randint(1, 11, size=(3, 4))\n",
    "matrix"
   ]
  },
  {
   "cell_type": "code",
   "execution_count": 52,
   "id": "be90a8eb",
   "metadata": {
    "execution": {
     "iopub.execute_input": "2023-06-03T13:53:59.879137Z",
     "iopub.status.busy": "2023-06-03T13:53:59.878083Z",
     "iopub.status.idle": "2023-06-03T13:53:59.888337Z",
     "shell.execute_reply": "2023-06-03T13:53:59.886486Z"
    },
    "papermill": {
     "duration": 0.042057,
     "end_time": "2023-06-03T13:53:59.891793",
     "exception": false,
     "start_time": "2023-06-03T13:53:59.849736",
     "status": "completed"
    },
    "tags": []
   },
   "outputs": [
    {
     "data": {
      "text/plain": [
       "array([[25, 49, 64, 25],\n",
       "       [16, 16, 25, 81],\n",
       "       [ 9, 36, 49,  1]])"
      ]
     },
     "execution_count": 52,
     "metadata": {},
     "output_type": "execute_result"
    }
   ],
   "source": [
    "squared_matrix = np.square(matrix)\n",
    "squared_matrix"
   ]
  },
  {
   "cell_type": "markdown",
   "id": "fd6fe757",
   "metadata": {
    "papermill": {
     "duration": 0.027672,
     "end_time": "2023-06-03T13:53:59.946625",
     "exception": false,
     "start_time": "2023-06-03T13:53:59.918953",
     "status": "completed"
    },
    "tags": []
   },
   "source": [
    "_18. Створіть вектор розміром 4, заповніть його випадковими цілими числами в діапазоні від 1 до 50 та знайдіть вектор з квадратними коренями цих чисел._"
   ]
  },
  {
   "cell_type": "code",
   "execution_count": 53,
   "id": "f42e917e",
   "metadata": {
    "execution": {
     "iopub.execute_input": "2023-06-03T13:54:00.003500Z",
     "iopub.status.busy": "2023-06-03T13:54:00.002784Z",
     "iopub.status.idle": "2023-06-03T13:54:00.011450Z",
     "shell.execute_reply": "2023-06-03T13:54:00.010254Z"
    },
    "papermill": {
     "duration": 0.041859,
     "end_time": "2023-06-03T13:54:00.015459",
     "exception": false,
     "start_time": "2023-06-03T13:53:59.973600",
     "status": "completed"
    },
    "tags": []
   },
   "outputs": [
    {
     "data": {
      "text/plain": [
       "array([14, 47, 13, 23])"
      ]
     },
     "execution_count": 53,
     "metadata": {},
     "output_type": "execute_result"
    }
   ],
   "source": [
    "arr = np.random.randint(1, 51, 4)\n",
    "arr"
   ]
  },
  {
   "cell_type": "code",
   "execution_count": 54,
   "id": "ef90ac3b",
   "metadata": {
    "execution": {
     "iopub.execute_input": "2023-06-03T13:54:00.073950Z",
     "iopub.status.busy": "2023-06-03T13:54:00.072979Z",
     "iopub.status.idle": "2023-06-03T13:54:00.081744Z",
     "shell.execute_reply": "2023-06-03T13:54:00.080454Z"
    },
    "papermill": {
     "duration": 0.04126,
     "end_time": "2023-06-03T13:54:00.084427",
     "exception": false,
     "start_time": "2023-06-03T13:54:00.043167",
     "status": "completed"
    },
    "tags": []
   },
   "outputs": [
    {
     "data": {
      "text/plain": [
       "array([3.74165739, 6.8556546 , 3.60555128, 4.79583152])"
      ]
     },
     "execution_count": 54,
     "metadata": {},
     "output_type": "execute_result"
    }
   ],
   "source": [
    "sqrt_vector = np.sqrt(arr)\n",
    "sqrt_vector"
   ]
  },
  {
   "cell_type": "code",
   "execution_count": null,
   "id": "fe4d157c",
   "metadata": {
    "papermill": {
     "duration": 0.029029,
     "end_time": "2023-06-03T13:54:00.142496",
     "exception": false,
     "start_time": "2023-06-03T13:54:00.113467",
     "status": "completed"
    },
    "tags": []
   },
   "outputs": [],
   "source": []
  }
 ],
 "metadata": {
  "kernelspec": {
   "display_name": "Python 3",
   "language": "python",
   "name": "python3"
  },
  "language_info": {
   "codemirror_mode": {
    "name": "ipython",
    "version": 3
   },
   "file_extension": ".py",
   "mimetype": "text/x-python",
   "name": "python",
   "nbconvert_exporter": "python",
   "pygments_lexer": "ipython3",
   "version": "3.10.10"
  },
  "papermill": {
   "default_parameters": {},
   "duration": 18.563893,
   "end_time": "2023-06-03T13:54:01.398905",
   "environment_variables": {},
   "exception": null,
   "input_path": "__notebook__.ipynb",
   "output_path": "__notebook__.ipynb",
   "parameters": {},
   "start_time": "2023-06-03T13:53:42.835012",
   "version": "2.4.0"
  }
 },
 "nbformat": 4,
 "nbformat_minor": 5
}
