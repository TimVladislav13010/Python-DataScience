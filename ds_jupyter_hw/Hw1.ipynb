{
 "cells": [
  {
   "cell_type": "code",
   "execution_count": 1,
   "id": "fe6c3ef2",
   "metadata": {},
   "outputs": [],
   "source": [
    "import numpy as np"
   ]
  },
  {
   "cell_type": "markdown",
   "id": "e74dec7e",
   "metadata": {},
   "source": [
    "_1. Створіть одновимірний масив (вектор) з першими 10-ма натуральними числами та виведіть його значення._"
   ]
  },
  {
   "cell_type": "code",
   "execution_count": 2,
   "id": "18bdc694",
   "metadata": {},
   "outputs": [],
   "source": [
    "arr = np.arange(1,10)"
   ]
  },
  {
   "cell_type": "code",
   "execution_count": 3,
   "id": "9206c2a5",
   "metadata": {},
   "outputs": [
    {
     "data": {
      "text/plain": [
       "array([1, 2, 3, 4, 5, 6, 7, 8, 9])"
      ]
     },
     "execution_count": 3,
     "metadata": {},
     "output_type": "execute_result"
    }
   ],
   "source": [
    "arr"
   ]
  },
  {
   "cell_type": "markdown",
   "id": "9105e6fb",
   "metadata": {},
   "source": [
    "_2. Створіть двовимірний масив (матрицю) розміром 3x3, заповніть його нулями та виведіть його значення._"
   ]
  },
  {
   "cell_type": "code",
   "execution_count": 4,
   "id": "878ebfcb",
   "metadata": {},
   "outputs": [],
   "source": [
    "matrix = np.zeros((3,3))"
   ]
  },
  {
   "cell_type": "code",
   "execution_count": 5,
   "id": "4ad1a267",
   "metadata": {},
   "outputs": [
    {
     "data": {
      "text/plain": [
       "array([[0., 0., 0.],\n",
       "       [0., 0., 0.],\n",
       "       [0., 0., 0.]])"
      ]
     },
     "execution_count": 5,
     "metadata": {},
     "output_type": "execute_result"
    }
   ],
   "source": [
    "matrix"
   ]
  },
  {
   "cell_type": "markdown",
   "id": "240284f1",
   "metadata": {},
   "source": [
    "_3. Створіть масив розміром 5x5, заповніть його випадковими цілими числами в діапазоні від 1 до 10 та виведіть його значення._"
   ]
  },
  {
   "cell_type": "code",
   "execution_count": 6,
   "id": "03e5ddee",
   "metadata": {},
   "outputs": [],
   "source": [
    "matrix = np.random.randint(1, 11, size=(5, 5))"
   ]
  },
  {
   "cell_type": "code",
   "execution_count": 7,
   "id": "a53c1338",
   "metadata": {},
   "outputs": [
    {
     "data": {
      "text/plain": [
       "array([[5, 7, 1, 6, 4],\n",
       "       [3, 2, 8, 5, 4],\n",
       "       [4, 2, 6, 2, 5],\n",
       "       [4, 1, 1, 8, 3],\n",
       "       [1, 8, 6, 2, 4]])"
      ]
     },
     "execution_count": 7,
     "metadata": {},
     "output_type": "execute_result"
    }
   ],
   "source": [
    "matrix"
   ]
  },
  {
   "cell_type": "markdown",
   "id": "dd484ce5",
   "metadata": {},
   "source": [
    "_4. Створіть масив розміром 4x4, заповніть його випадковими дійсними числами в діапазоні від 0 до 1 та виведіть його значення._"
   ]
  },
  {
   "cell_type": "code",
   "execution_count": 8,
   "id": "ece99d71",
   "metadata": {},
   "outputs": [],
   "source": [
    "matrix = np.random.randint(2, size=(4, 4))"
   ]
  },
  {
   "cell_type": "code",
   "execution_count": 9,
   "id": "911a3700",
   "metadata": {},
   "outputs": [
    {
     "data": {
      "text/plain": [
       "array([[0, 1, 1, 0],\n",
       "       [1, 0, 0, 1],\n",
       "       [1, 1, 0, 1],\n",
       "       [0, 0, 0, 0]])"
      ]
     },
     "execution_count": 9,
     "metadata": {},
     "output_type": "execute_result"
    }
   ],
   "source": [
    "matrix"
   ]
  },
  {
   "cell_type": "markdown",
   "id": "8e092cd8",
   "metadata": {},
   "source": [
    "_5. Створіть два одновимірних масиви розміром 5, заповніть їх випадковими цілими числами в діапазоні від 1 до 10 та виконайте на них поелементні операції додавання, віднімання та множення._"
   ]
  },
  {
   "cell_type": "code",
   "execution_count": 10,
   "id": "6cafd7c4",
   "metadata": {},
   "outputs": [],
   "source": [
    "arr_1 = np.random.randint(1, 11, 5)\n",
    "arr_2 = np.random.randint(1, 11, 5)"
   ]
  },
  {
   "cell_type": "code",
   "execution_count": 11,
   "id": "0026e35a",
   "metadata": {},
   "outputs": [
    {
     "data": {
      "text/plain": [
       "array([4, 8, 1, 8, 9])"
      ]
     },
     "execution_count": 11,
     "metadata": {},
     "output_type": "execute_result"
    }
   ],
   "source": [
    "arr_1"
   ]
  },
  {
   "cell_type": "code",
   "execution_count": 12,
   "id": "34f6e371",
   "metadata": {},
   "outputs": [
    {
     "data": {
      "text/plain": [
       "array([7, 2, 6, 2, 4])"
      ]
     },
     "execution_count": 12,
     "metadata": {},
     "output_type": "execute_result"
    }
   ],
   "source": [
    "arr_2"
   ]
  },
  {
   "cell_type": "code",
   "execution_count": 13,
   "id": "0ed22bbe",
   "metadata": {},
   "outputs": [
    {
     "data": {
      "text/plain": [
       "array([11, 10,  7, 10, 13])"
      ]
     },
     "execution_count": 13,
     "metadata": {},
     "output_type": "execute_result"
    }
   ],
   "source": [
    "arr_1 + arr_2"
   ]
  },
  {
   "cell_type": "code",
   "execution_count": 14,
   "id": "6464d490",
   "metadata": {},
   "outputs": [
    {
     "data": {
      "text/plain": [
       "array([-3,  6, -5,  6,  5])"
      ]
     },
     "execution_count": 14,
     "metadata": {},
     "output_type": "execute_result"
    }
   ],
   "source": [
    "arr_1 - arr_2"
   ]
  },
  {
   "cell_type": "code",
   "execution_count": 15,
   "id": "cf53a807",
   "metadata": {},
   "outputs": [
    {
     "data": {
      "text/plain": [
       "array([28, 16,  6, 16, 36])"
      ]
     },
     "execution_count": 15,
     "metadata": {},
     "output_type": "execute_result"
    }
   ],
   "source": [
    "arr_1 * arr_2"
   ]
  },
  {
   "cell_type": "markdown",
   "id": "17bf6ff5",
   "metadata": {},
   "source": [
    "_6. Створіть два вектори розміром 7, заповніть довільними числами та знайдіть їх скалярний добуток._"
   ]
  },
  {
   "cell_type": "code",
   "execution_count": 16,
   "id": "c622de95",
   "metadata": {},
   "outputs": [],
   "source": [
    "arr_1 = np.random.randint(1, 8, 7)\n",
    "arr_2 = np.random.randint(1, 8, 7)"
   ]
  },
  {
   "cell_type": "code",
   "execution_count": 17,
   "id": "9b5299d4",
   "metadata": {},
   "outputs": [
    {
     "data": {
      "text/plain": [
       "array([6, 3, 6, 5, 5, 3, 4])"
      ]
     },
     "execution_count": 17,
     "metadata": {},
     "output_type": "execute_result"
    }
   ],
   "source": [
    "arr_1"
   ]
  },
  {
   "cell_type": "code",
   "execution_count": 18,
   "id": "e943b8e5",
   "metadata": {},
   "outputs": [
    {
     "data": {
      "text/plain": [
       "array([7, 1, 4, 4, 4, 1, 2])"
      ]
     },
     "execution_count": 18,
     "metadata": {},
     "output_type": "execute_result"
    }
   ],
   "source": [
    "arr_2"
   ]
  },
  {
   "cell_type": "code",
   "execution_count": 19,
   "id": "aafe4c14",
   "metadata": {},
   "outputs": [],
   "source": [
    "s_dot = np.dot(arr_1, arr_2)"
   ]
  },
  {
   "cell_type": "code",
   "execution_count": 20,
   "id": "12e2eba5",
   "metadata": {},
   "outputs": [
    {
     "data": {
      "text/plain": [
       "120"
      ]
     },
     "execution_count": 20,
     "metadata": {},
     "output_type": "execute_result"
    }
   ],
   "source": [
    "s_dot"
   ]
  },
  {
   "cell_type": "markdown",
   "id": "3734d1dc",
   "metadata": {},
   "source": [
    "_7. Створіть дві матриці розміром 2x2 та 2x3, заповніть їх випадковими цілими числами в діапазоні від 1 до 10 та перемножте їх між собою._"
   ]
  },
  {
   "cell_type": "code",
   "execution_count": 21,
   "id": "8b7327dc",
   "metadata": {},
   "outputs": [],
   "source": [
    "matrix_1 = np.random.randint(1, 11, size=(2, 2))\n",
    "matrix_2 = np.random.randint(1, 11, size=(2, 3))"
   ]
  },
  {
   "cell_type": "code",
   "execution_count": 22,
   "id": "b176c086",
   "metadata": {},
   "outputs": [
    {
     "data": {
      "text/plain": [
       "array([[8, 4],\n",
       "       [4, 2]])"
      ]
     },
     "execution_count": 22,
     "metadata": {},
     "output_type": "execute_result"
    }
   ],
   "source": [
    "matrix_1"
   ]
  },
  {
   "cell_type": "code",
   "execution_count": 23,
   "id": "1a614bdb",
   "metadata": {},
   "outputs": [
    {
     "data": {
      "text/plain": [
       "array([[1, 6, 7],\n",
       "       [4, 1, 5]])"
      ]
     },
     "execution_count": 23,
     "metadata": {},
     "output_type": "execute_result"
    }
   ],
   "source": [
    "matrix_2"
   ]
  },
  {
   "cell_type": "code",
   "execution_count": 24,
   "id": "3818d489",
   "metadata": {},
   "outputs": [
    {
     "data": {
      "text/plain": [
       "array([[24, 52, 76],\n",
       "       [12, 26, 38]])"
      ]
     },
     "execution_count": 24,
     "metadata": {},
     "output_type": "execute_result"
    }
   ],
   "source": [
    "np.dot(matrix_1, matrix_2)"
   ]
  },
  {
   "cell_type": "markdown",
   "id": "11235b0a",
   "metadata": {},
   "source": [
    "_8. Створіть матрицю розміром 3x3, заповніть її випадковими цілими числами в діапазоні від 1 до 10 та знайдіть її обернену матрицю._"
   ]
  },
  {
   "cell_type": "code",
   "execution_count": 25,
   "id": "c412c15d",
   "metadata": {},
   "outputs": [
    {
     "data": {
      "text/plain": [
       "array([[ 9, 10,  5],\n",
       "       [10,  5,  2],\n",
       "       [ 3,  6,  7]])"
      ]
     },
     "execution_count": 25,
     "metadata": {},
     "output_type": "execute_result"
    }
   ],
   "source": [
    "matrix = np.random.randint(1, 11, size=(3, 3))\n",
    "matrix"
   ]
  },
  {
   "cell_type": "code",
   "execution_count": 26,
   "id": "4c68e0fd",
   "metadata": {},
   "outputs": [
    {
     "data": {
      "text/plain": [
       "array([[-0.11057692,  0.19230769,  0.02403846],\n",
       "       [ 0.30769231, -0.23076923, -0.15384615],\n",
       "       [-0.21634615,  0.11538462,  0.26442308]])"
      ]
     },
     "execution_count": 26,
     "metadata": {},
     "output_type": "execute_result"
    }
   ],
   "source": [
    "inverse_matrix = np.linalg.inv(matrix)\n",
    "inverse_matrix"
   ]
  },
  {
   "cell_type": "code",
   "execution_count": 27,
   "id": "8b8525c4",
   "metadata": {},
   "outputs": [
    {
     "data": {
      "text/plain": [
       "array([[ 9., 10.,  5.],\n",
       "       [10.,  5.,  2.],\n",
       "       [ 3.,  6.,  7.]])"
      ]
     },
     "execution_count": 27,
     "metadata": {},
     "output_type": "execute_result"
    }
   ],
   "source": [
    "inverse_matrix = np.linalg.inv(inverse_matrix)\n",
    "inverse_matrix"
   ]
  },
  {
   "cell_type": "markdown",
   "id": "704d908b",
   "metadata": {},
   "source": [
    "_9. Створіть матрицю розміром 4x4, заповніть її випадковими дійсними числами в діапазоні від 0 до 1 та транспонуйте її._"
   ]
  },
  {
   "cell_type": "code",
   "execution_count": 28,
   "id": "6ec1e9ab",
   "metadata": {},
   "outputs": [
    {
     "data": {
      "text/plain": [
       "array([[0.99050059, 0.62412991, 0.98596431, 0.50296935],\n",
       "       [0.3763948 , 0.69174945, 0.76046633, 0.78574223],\n",
       "       [0.06454403, 0.15683101, 0.37250486, 0.76119489],\n",
       "       [0.24445585, 0.13135137, 0.2560899 , 0.57887849]])"
      ]
     },
     "execution_count": 28,
     "metadata": {},
     "output_type": "execute_result"
    }
   ],
   "source": [
    "matrix = np.random.random((4, 4))\n",
    "matrix"
   ]
  },
  {
   "cell_type": "code",
   "execution_count": 29,
   "id": "0bfa44a3",
   "metadata": {},
   "outputs": [
    {
     "data": {
      "text/plain": [
       "array([[0.99050059, 0.3763948 , 0.06454403, 0.24445585],\n",
       "       [0.62412991, 0.69174945, 0.15683101, 0.13135137],\n",
       "       [0.98596431, 0.76046633, 0.37250486, 0.2560899 ],\n",
       "       [0.50296935, 0.78574223, 0.76119489, 0.57887849]])"
      ]
     },
     "execution_count": 29,
     "metadata": {},
     "output_type": "execute_result"
    }
   ],
   "source": [
    "transposed_matrix = np.transpose(matrix)\n",
    "transposed_matrix"
   ]
  },
  {
   "cell_type": "markdown",
   "id": "d0ac0f95",
   "metadata": {},
   "source": [
    "_10. Створіть матрицю розміром 3x4 та вектор розміром 4, заповніть їх випадковими цілими числами в діапазоні від 1 до 10 та перемножте матрицю на вектор._"
   ]
  },
  {
   "cell_type": "code",
   "execution_count": 30,
   "id": "cbcba1e8",
   "metadata": {},
   "outputs": [
    {
     "data": {
      "text/plain": [
       "array([[ 2,  2,  1,  4],\n",
       "       [10,  1,  2,  1],\n",
       "       [ 9,  1,  3,  1]])"
      ]
     },
     "execution_count": 30,
     "metadata": {},
     "output_type": "execute_result"
    }
   ],
   "source": [
    "matrix = np.random.randint(1, 11, size=(3, 4))\n",
    "matrix"
   ]
  },
  {
   "cell_type": "code",
   "execution_count": 31,
   "id": "4e9733b1",
   "metadata": {},
   "outputs": [
    {
     "data": {
      "text/plain": [
       "array([5, 6, 2, 9])"
      ]
     },
     "execution_count": 31,
     "metadata": {},
     "output_type": "execute_result"
    }
   ],
   "source": [
    "vector= np.random.randint(1, 11, size=4)\n",
    "vector"
   ]
  },
  {
   "cell_type": "code",
   "execution_count": 32,
   "id": "d39e94af",
   "metadata": {},
   "outputs": [
    {
     "data": {
      "text/plain": [
       "array([60, 69, 66])"
      ]
     },
     "execution_count": 32,
     "metadata": {},
     "output_type": "execute_result"
    }
   ],
   "source": [
    "np.dot(matrix, vector)"
   ]
  },
  {
   "cell_type": "markdown",
   "id": "f1d14f81",
   "metadata": {},
   "source": [
    "_11. Створіть матрицю розміром 2x3 та вектор розміром 3, заповніть їх випадковими дійсними числами в діапазоні від 0 до 1 та перемножте матрицю на вектор._"
   ]
  },
  {
   "cell_type": "code",
   "execution_count": 33,
   "id": "0aa448cb",
   "metadata": {},
   "outputs": [
    {
     "data": {
      "text/plain": [
       "array([[0.63139188, 0.91110684, 0.24803655],\n",
       "       [0.67020872, 0.89847993, 0.02960029]])"
      ]
     },
     "execution_count": 33,
     "metadata": {},
     "output_type": "execute_result"
    }
   ],
   "source": [
    "matrix = np.random.random((2, 3))\n",
    "matrix"
   ]
  },
  {
   "cell_type": "code",
   "execution_count": 34,
   "id": "7f7c82d9",
   "metadata": {},
   "outputs": [
    {
     "data": {
      "text/plain": [
       "array([0.12220126, 0.10250164, 0.7985101 ])"
      ]
     },
     "execution_count": 34,
     "metadata": {},
     "output_type": "execute_result"
    }
   ],
   "source": [
    "vector= np.random.random(3)\n",
    "vector"
   ]
  },
  {
   "cell_type": "code",
   "execution_count": 35,
   "id": "469ae40d",
   "metadata": {},
   "outputs": [
    {
     "data": {
      "text/plain": [
       "array([0.36860651, 0.19763214])"
      ]
     },
     "execution_count": 35,
     "metadata": {},
     "output_type": "execute_result"
    }
   ],
   "source": [
    "np.dot(matrix, vector)"
   ]
  },
  {
   "cell_type": "markdown",
   "id": "f5b55994",
   "metadata": {},
   "source": [
    "_12. Створіть дві матриці розміром 2x2, заповніть їх випадковими цілими числами в діапазоні від 1 до 10 та виконайте їхнє поелементне множення._"
   ]
  },
  {
   "cell_type": "code",
   "execution_count": 36,
   "id": "1e2f3a90",
   "metadata": {},
   "outputs": [
    {
     "data": {
      "text/plain": [
       "array([[5, 3],\n",
       "       [3, 9]])"
      ]
     },
     "execution_count": 36,
     "metadata": {},
     "output_type": "execute_result"
    }
   ],
   "source": [
    "matrix_1 = np.random.randint(1, 11, size=(2, 2))\n",
    "matrix_1"
   ]
  },
  {
   "cell_type": "code",
   "execution_count": 37,
   "id": "64dbb8a2",
   "metadata": {},
   "outputs": [
    {
     "data": {
      "text/plain": [
       "array([[ 5,  6],\n",
       "       [ 1, 10]])"
      ]
     },
     "execution_count": 37,
     "metadata": {},
     "output_type": "execute_result"
    }
   ],
   "source": [
    "matrix_2 = np.random.randint(1, 11, size=(2, 2))\n",
    "matrix_2"
   ]
  },
  {
   "cell_type": "code",
   "execution_count": 38,
   "id": "90403753",
   "metadata": {},
   "outputs": [
    {
     "data": {
      "text/plain": [
       "array([[25, 18],\n",
       "       [ 3, 90]])"
      ]
     },
     "execution_count": 38,
     "metadata": {},
     "output_type": "execute_result"
    }
   ],
   "source": [
    "matrix_1 * matrix_2"
   ]
  },
  {
   "cell_type": "code",
   "execution_count": 39,
   "id": "f5e20673",
   "metadata": {},
   "outputs": [
    {
     "data": {
      "text/plain": [
       "array([[25, 18],\n",
       "       [ 3, 90]])"
      ]
     },
     "execution_count": 39,
     "metadata": {},
     "output_type": "execute_result"
    }
   ],
   "source": [
    "np.multiply(matrix_1, matrix_2)"
   ]
  },
  {
   "cell_type": "markdown",
   "id": "522426f5",
   "metadata": {},
   "source": [
    "_13. Створіть дві матриці розміром 2x2, заповніть їх випадковими цілими числами в діапазоні від 1 до 10 та знайдіть їх добуток._"
   ]
  },
  {
   "cell_type": "code",
   "execution_count": 40,
   "id": "dd609b0f",
   "metadata": {},
   "outputs": [
    {
     "data": {
      "text/plain": [
       "array([[8, 7],\n",
       "       [6, 9]])"
      ]
     },
     "execution_count": 40,
     "metadata": {},
     "output_type": "execute_result"
    }
   ],
   "source": [
    "matrix_1 = np.random.randint(1, 11, size=(2, 2))\n",
    "matrix_1"
   ]
  },
  {
   "cell_type": "code",
   "execution_count": 41,
   "id": "f63bbffb",
   "metadata": {},
   "outputs": [
    {
     "data": {
      "text/plain": [
       "array([[2, 7],\n",
       "       [2, 6]])"
      ]
     },
     "execution_count": 41,
     "metadata": {},
     "output_type": "execute_result"
    }
   ],
   "source": [
    "matrix_2 = np.random.randint(1, 11, size=(2, 2))\n",
    "matrix_2"
   ]
  },
  {
   "cell_type": "code",
   "execution_count": 42,
   "id": "b9b3e4d7",
   "metadata": {},
   "outputs": [
    {
     "data": {
      "text/plain": [
       "array([[30, 98],\n",
       "       [30, 96]])"
      ]
     },
     "execution_count": 42,
     "metadata": {},
     "output_type": "execute_result"
    }
   ],
   "source": [
    "np.dot(matrix_1, matrix_2)"
   ]
  },
  {
   "cell_type": "markdown",
   "id": "637bd8e6",
   "metadata": {},
   "source": [
    "_14. Створіть матрицю розміром 5x5, заповніть її випадковими цілими числами в діапазоні від 1 до 100 та знайдіть суму елементів матриці._"
   ]
  },
  {
   "cell_type": "code",
   "execution_count": 43,
   "id": "aea5e020",
   "metadata": {},
   "outputs": [
    {
     "data": {
      "text/plain": [
       "array([[67, 82, 50, 85, 10],\n",
       "       [30, 37, 52, 99, 87],\n",
       "       [60, 57, 63, 21, 39],\n",
       "       [23, 36,  4, 51, 78],\n",
       "       [61, 88, 77, 21, 80]])"
      ]
     },
     "execution_count": 43,
     "metadata": {},
     "output_type": "execute_result"
    }
   ],
   "source": [
    "matrix = np.random.randint(1, 101, size=(5, 5))\n",
    "matrix"
   ]
  },
  {
   "cell_type": "code",
   "execution_count": 44,
   "id": "ee40216c",
   "metadata": {},
   "outputs": [
    {
     "data": {
      "text/plain": [
       "1358"
      ]
     },
     "execution_count": 44,
     "metadata": {},
     "output_type": "execute_result"
    }
   ],
   "source": [
    "np.sum(matrix)"
   ]
  },
  {
   "cell_type": "markdown",
   "id": "ba524de4",
   "metadata": {},
   "source": [
    "_15. Створіть дві матриці розміром 4x4, заповніть їх випадковими цілими числами в діапазоні від 1 до 10 та знайдіть їхню різницю._"
   ]
  },
  {
   "cell_type": "code",
   "execution_count": 45,
   "id": "fd73444b",
   "metadata": {},
   "outputs": [
    {
     "data": {
      "text/plain": [
       "array([[ 7,  5,  9,  5],\n",
       "       [ 9,  7, 10,  8],\n",
       "       [ 1,  6,  2,  1],\n",
       "       [ 8,  9,  4, 10]])"
      ]
     },
     "execution_count": 45,
     "metadata": {},
     "output_type": "execute_result"
    }
   ],
   "source": [
    "matrix_1 = np.random.randint(1, 11, size=(4, 4))\n",
    "matrix_1"
   ]
  },
  {
   "cell_type": "code",
   "execution_count": 46,
   "id": "19017650",
   "metadata": {},
   "outputs": [
    {
     "data": {
      "text/plain": [
       "array([[10,  7, 10,  7],\n",
       "       [ 8,  3, 10,  1],\n",
       "       [ 6,  5,  7, 10],\n",
       "       [ 4, 10,  3,  2]])"
      ]
     },
     "execution_count": 46,
     "metadata": {},
     "output_type": "execute_result"
    }
   ],
   "source": [
    "matrix_2 = np.random.randint(1, 11, size=(4, 4))\n",
    "matrix_2"
   ]
  },
  {
   "cell_type": "code",
   "execution_count": 47,
   "id": "e918f2c7",
   "metadata": {},
   "outputs": [
    {
     "data": {
      "text/plain": [
       "array([[-3, -2, -1, -2],\n",
       "       [ 1,  4,  0,  7],\n",
       "       [-5,  1, -5, -9],\n",
       "       [ 4, -1,  1,  8]])"
      ]
     },
     "execution_count": 47,
     "metadata": {},
     "output_type": "execute_result"
    }
   ],
   "source": [
    "matrix_1 - matrix_2"
   ]
  },
  {
   "cell_type": "markdown",
   "id": "36e3b19c",
   "metadata": {},
   "source": [
    "_16. Створіть матрицю розміром 3x3, заповніть її випадковими дійсними числами в діапазоні від 0 до 1 та знайдіть вектор-стовпчик, що містить суму елементів кожного рядка матриці._"
   ]
  },
  {
   "cell_type": "code",
   "execution_count": 48,
   "id": "4e0ae9c7",
   "metadata": {},
   "outputs": [
    {
     "data": {
      "text/plain": [
       "array([[0.32625607, 0.5034324 , 0.95118963],\n",
       "       [0.8245194 , 0.72308699, 0.3738302 ],\n",
       "       [0.0588841 , 0.92291821, 0.86829557]])"
      ]
     },
     "execution_count": 48,
     "metadata": {},
     "output_type": "execute_result"
    }
   ],
   "source": [
    "matrix = np.random.random((3, 3))\n",
    "matrix"
   ]
  },
  {
   "cell_type": "code",
   "execution_count": 49,
   "id": "d9eba8bb",
   "metadata": {},
   "outputs": [
    {
     "data": {
      "text/plain": [
       "array([1.7808781 , 1.92143659, 1.85009788])"
      ]
     },
     "execution_count": 49,
     "metadata": {},
     "output_type": "execute_result"
    }
   ],
   "source": [
    "sums = np.sum(matrix, axis=1)\n",
    "sums"
   ]
  },
  {
   "cell_type": "code",
   "execution_count": 50,
   "id": "4af9b4fb",
   "metadata": {},
   "outputs": [
    {
     "data": {
      "text/plain": [
       "array([[1.7808781 ],\n",
       "       [1.92143659],\n",
       "       [1.85009788]])"
      ]
     },
     "execution_count": 50,
     "metadata": {},
     "output_type": "execute_result"
    }
   ],
   "source": [
    "vector_column = sums.reshape(-1, 1)\n",
    "vector_column"
   ]
  },
  {
   "cell_type": "markdown",
   "id": "78e4e6ff",
   "metadata": {},
   "source": [
    "_17. Створіть матрицю розміром 3x4 з довільними цілими числами і створінь матрицю з квадратами цих чисел._"
   ]
  },
  {
   "cell_type": "code",
   "execution_count": 51,
   "id": "bcffc6c7",
   "metadata": {},
   "outputs": [
    {
     "data": {
      "text/plain": [
       "array([[10,  6,  8,  4],\n",
       "       [ 5,  7,  2,  9],\n",
       "       [ 4,  9,  3,  2]])"
      ]
     },
     "execution_count": 51,
     "metadata": {},
     "output_type": "execute_result"
    }
   ],
   "source": [
    "matrix = np.random.randint(1, 11, size=(3, 4))\n",
    "matrix"
   ]
  },
  {
   "cell_type": "code",
   "execution_count": 52,
   "id": "70f4ad27",
   "metadata": {},
   "outputs": [
    {
     "data": {
      "text/plain": [
       "array([[100,  36,  64,  16],\n",
       "       [ 25,  49,   4,  81],\n",
       "       [ 16,  81,   9,   4]])"
      ]
     },
     "execution_count": 52,
     "metadata": {},
     "output_type": "execute_result"
    }
   ],
   "source": [
    "squared_matrix = np.square(matrix)\n",
    "squared_matrix"
   ]
  },
  {
   "cell_type": "markdown",
   "id": "e7bef717",
   "metadata": {},
   "source": [
    "_18. Створіть вектор розміром 4, заповніть його випадковими цілими числами в діапазоні від 1 до 50 та знайдіть вектор з квадратними коренями цих чисел._"
   ]
  },
  {
   "cell_type": "code",
   "execution_count": 53,
   "id": "1d30b9d6",
   "metadata": {},
   "outputs": [
    {
     "data": {
      "text/plain": [
       "array([ 9, 34, 29, 29])"
      ]
     },
     "execution_count": 53,
     "metadata": {},
     "output_type": "execute_result"
    }
   ],
   "source": [
    "arr = np.random.randint(1, 51, 4)\n",
    "arr"
   ]
  },
  {
   "cell_type": "code",
   "execution_count": 54,
   "id": "65636460",
   "metadata": {},
   "outputs": [
    {
     "data": {
      "text/plain": [
       "array([3.        , 5.83095189, 5.38516481, 5.38516481])"
      ]
     },
     "execution_count": 54,
     "metadata": {},
     "output_type": "execute_result"
    }
   ],
   "source": [
    "sqrt_vector = np.sqrt(arr)\n",
    "sqrt_vector"
   ]
  },
  {
   "cell_type": "code",
   "execution_count": null,
   "id": "a3b7d8cf",
   "metadata": {},
   "outputs": [],
   "source": []
  }
 ],
 "metadata": {
  "kernelspec": {
   "display_name": "Python 3 (ipykernel)",
   "language": "python",
   "name": "python3"
  },
  "language_info": {
   "codemirror_mode": {
    "name": "ipython",
    "version": 3
   },
   "file_extension": ".py",
   "mimetype": "text/x-python",
   "name": "python",
   "nbconvert_exporter": "python",
   "pygments_lexer": "ipython3",
   "version": "3.9.16"
  }
 },
 "nbformat": 4,
 "nbformat_minor": 5
}
